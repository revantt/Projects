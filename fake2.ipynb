{
 "cells": [
  {
   "cell_type": "code",
   "execution_count": 1,
   "metadata": {
    "collapsed": true
   },
   "outputs": [],
   "source": [
    "import pandas as pd\n",
    "import numpy as np\n",
    "import nltk\n",
    "from nltk.corpus import stopwords\n",
    "from tensorflow.python.keras.models import Sequential\n",
    "from tensorflow.python.keras.layers import Dense, GRU, Embedding\n",
    "from tensorflow.python.keras.optimizers import Adam\n",
    "from tensorflow.python.keras.preprocessing.text import Tokenizer\n",
    "from tensorflow.python.keras.preprocessing.sequence import pad_sequences"
   ]
  },
  {
   "cell_type": "code",
   "execution_count": 2,
   "metadata": {
    "collapsed": true
   },
   "outputs": [],
   "source": [
    "df=pd.read_csv('data.csv')\n",
    "df.head()\n",
    "stops=stopwords.words('english')"
   ]
  },
  {
   "cell_type": "code",
   "execution_count": 3,
   "metadata": {
    "collapsed": true
   },
   "outputs": [],
   "source": [
    "real=' '.join(df[df['Label']==1]['Headline'])\n",
    "fake=' '.join(df[df['Label']==0]['Headline'])\n",
    "\n"
   ]
  },
  {
   "cell_type": "code",
   "execution_count": 4,
   "metadata": {
    "collapsed": true
   },
   "outputs": [],
   "source": [
    "y_real=np.array([1 for i in range(1872)])\n",
    "y_fake=np.array([0 for i in range(2137)])"
   ]
  },
  {
   "cell_type": "code",
   "execution_count": 5,
   "metadata": {
    "collapsed": true
   },
   "outputs": [],
   "source": [
    "from random import shuffle\n",
    "\n",
    "real_list=list(df[df['Label']==1]['Headline'].values)\n",
    "\n",
    "fake_list=list(df[df['Label']==0]['Headline'].values)\n",
    "\n",
    "\n",
    "total_words=real_list+fake_list\n",
    "\n",
    "real_data=list(zip(real_list,y_real))\n",
    "fake_data=list(zip(fake_list,y_fake))\n",
    "\n",
    "data=real_data+fake_data\n",
    "\n",
    "shuffle(data)"
   ]
  },
  {
   "cell_type": "code",
   "execution_count": null,
   "metadata": {
    "collapsed": true
   },
   "outputs": [],
   "source": []
  },
  {
   "cell_type": "code",
   "execution_count": 6,
   "metadata": {
    "collapsed": true
   },
   "outputs": [],
   "source": [
    "x_train=[i[0] for i in data[:3009]]\n",
    "y_train=np.array([i[1] for i in data[:3009]])\n",
    "x_test=[i[0] for i in data[3009:]]\n",
    "y_test=np.array([i[1] for i in data[3009:]])\n",
    "\n",
    "\n",
    "\n",
    "\n",
    "\n"
   ]
  },
  {
   "cell_type": "code",
   "execution_count": 7,
   "metadata": {
    "collapsed": true
   },
   "outputs": [],
   "source": [
    "tokenizer = Tokenizer(num_words=None)\n",
    "tokenizer.fit_on_texts(total_words)"
   ]
  },
  {
   "cell_type": "code",
   "execution_count": 8,
   "metadata": {
    "collapsed": true
   },
   "outputs": [],
   "source": [
    "x_train_tokens = tokenizer.texts_to_sequences(x_train)\n",
    "x_test_tokens = tokenizer.texts_to_sequences(x_test)\n",
    "\n"
   ]
  },
  {
   "cell_type": "code",
   "execution_count": 9,
   "metadata": {
    "collapsed": true
   },
   "outputs": [],
   "source": [
    "x_train_pad = pad_sequences(x_train_tokens, maxlen=69+2*44,\n",
    "                            padding='pre', truncating='pre')\n",
    "x_test_pad = pad_sequences(x_test_tokens, maxlen=69+2*44,\n",
    "                           padding='pre', truncating='pre')\n",
    "\n"
   ]
  },
  {
   "cell_type": "code",
   "execution_count": 10,
   "metadata": {},
   "outputs": [
    {
     "name": "stdout",
     "output_type": "stream",
     "text": [
      "Train on 2858 samples, validate on 151 samples\n",
      "Epoch 1/10\n",
      "2858/2858 [==============================] - 40s - loss: 0.6928 - acc: 0.5245 - val_loss: 0.6915 - val_acc: 0.5563\n",
      "Epoch 2/10\n",
      "2858/2858 [==============================] - 29s - loss: 0.6868 - acc: 0.5549 - val_loss: 0.6943 - val_acc: 0.4901\n",
      "Epoch 3/10\n",
      "2858/2858 [==============================] - 29s - loss: 0.6729 - acc: 0.5934 - val_loss: 0.6823 - val_acc: 0.5099\n",
      "Epoch 4/10\n",
      "2858/2858 [==============================] - 29s - loss: 0.6042 - acc: 0.7050 - val_loss: 0.6021 - val_acc: 0.6821\n",
      "Epoch 5/10\n",
      "2858/2858 [==============================] - 29s - loss: 0.4259 - acc: 0.8181 - val_loss: 0.5514 - val_acc: 0.7417\n",
      "Epoch 6/10\n",
      "2858/2858 [==============================] - 29s - loss: 0.3181 - acc: 0.8712 - val_loss: 0.5260 - val_acc: 0.7550\n",
      "Epoch 7/10\n",
      "2858/2858 [==============================] - 29s - loss: 0.2338 - acc: 0.9199 - val_loss: 0.5156 - val_acc: 0.7748\n",
      "Epoch 8/10\n",
      "2858/2858 [==============================] - 29s - loss: 0.1781 - acc: 0.9458 - val_loss: 0.5089 - val_acc: 0.7748\n",
      "Epoch 9/10\n",
      "2858/2858 [==============================] - 29s - loss: 0.1420 - acc: 0.9612 - val_loss: 0.5587 - val_acc: 0.7815\n",
      "Epoch 10/10\n",
      "2858/2858 [==============================] - 30s - loss: 0.1116 - acc: 0.9710 - val_loss: 0.5672 - val_acc: 0.7815\n"
     ]
    },
    {
     "data": {
      "text/plain": [
       "<tensorflow.python.keras._impl.keras.callbacks.History at 0x1bab71b1320>"
      ]
     },
     "execution_count": 10,
     "metadata": {},
     "output_type": "execute_result"
    }
   ],
   "source": [
    "model = Sequential()\n",
    "model.add(Embedding(input_dim=7879,\n",
    "                    output_dim=10,\n",
    "                    input_length=69+2*44,\n",
    "                    name='layer_embedding'))\n",
    "model.add(GRU(units=16, return_sequences=True))\n",
    "model.add(GRU(units=8, return_sequences=True))\n",
    "model.add(GRU(units=4))\n",
    "model.add(Dense(1, activation='sigmoid'))\n",
    "optimizer = Adam(lr=1e-3)\n",
    "model.compile(loss='binary_crossentropy',\n",
    "              optimizer=optimizer,\n",
    "              metrics=['accuracy'])\n",
    "model.fit(x_train_pad, y_train,\n",
    "          validation_split=0.05, epochs=10, batch_size=64)"
   ]
  },
  {
   "cell_type": "code",
   "execution_count": 11,
   "metadata": {},
   "outputs": [
    {
     "name": "stdout",
     "output_type": "stream",
     "text": [
      "1000/1000 [==============================] - 4s     \n"
     ]
    },
    {
     "data": {
      "text/plain": [
       "0.81000000000000005"
      ]
     },
     "execution_count": 11,
     "metadata": {},
     "output_type": "execute_result"
    }
   ],
   "source": [
    "result = model.evaluate(x_test_pad, y_test)\n",
    "result[1]"
   ]
  },
  {
   "cell_type": "code",
   "execution_count": null,
   "metadata": {
    "collapsed": true
   },
   "outputs": [],
   "source": []
  },
  {
   "cell_type": "code",
   "execution_count": 12,
   "metadata": {},
   "outputs": [
    {
     "name": "stdout",
     "output_type": "stream",
     "text": [
      "enter the news\n",
      "Narendra Modi just bought a lamborghini\n",
      "FAKE NEWS!!\n"
     ]
    }
   ],
   "source": [
    "req=input('enter the news\\n')\n",
    "req=[req]\n",
    "req_token=tokenizer.texts_to_sequences(req)\n",
    "\n",
    "\n",
    "\n",
    "req_pad=pad_sequences(req_token, maxlen=69+2*44,\n",
    "                           padding='pre', truncating='pre')\n",
    "\n",
    "pred=model.predict([req_pad])\n",
    "\n",
    "\n",
    "print('FAKE NEWS!!') if pred>0.6 else print(\"REAL NEWS!!\")\n"
   ]
  },
  {
   "cell_type": "code",
   "execution_count": null,
   "metadata": {
    "collapsed": true
   },
   "outputs": [],
   "source": []
  },
  {
   "cell_type": "code",
   "execution_count": null,
   "metadata": {
    "collapsed": true
   },
   "outputs": [],
   "source": []
  }
 ],
 "metadata": {
  "kernelspec": {
   "display_name": "Python 3",
   "language": "python",
   "name": "python3"
  },
  "language_info": {
   "codemirror_mode": {
    "name": "ipython",
    "version": 3
   },
   "file_extension": ".py",
   "mimetype": "text/x-python",
   "name": "python",
   "nbconvert_exporter": "python",
   "pygments_lexer": "ipython3",
   "version": "3.6.6"
  }
 },
 "nbformat": 4,
 "nbformat_minor": 2
}
